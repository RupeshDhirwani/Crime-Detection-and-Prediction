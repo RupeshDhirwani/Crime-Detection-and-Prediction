{
 "cells": [
  {
   "cell_type": "code",
   "execution_count": 48,
   "id": "f580a5d7-3d80-46a4-8fcb-4e9e35ee9cb6",
   "metadata": {},
   "outputs": [],
   "source": [
    "import pandas as pd\n",
    "import numpy as np\n",
    "import matplotlib.pyplot as plt\n"
   ]
  },
  {
   "cell_type": "code",
   "execution_count": 2,
   "id": "6191e6c4-951f-4003-aefd-e035f295e4b2",
   "metadata": {},
   "outputs": [
    {
     "data": {
      "text/html": [
       "<div>\n",
       "<style scoped>\n",
       "    .dataframe tbody tr th:only-of-type {\n",
       "        vertical-align: middle;\n",
       "    }\n",
       "\n",
       "    .dataframe tbody tr th {\n",
       "        vertical-align: top;\n",
       "    }\n",
       "\n",
       "    .dataframe thead th {\n",
       "        text-align: right;\n",
       "    }\n",
       "</style>\n",
       "<table border=\"1\" class=\"dataframe\">\n",
       "  <thead>\n",
       "    <tr style=\"text-align: right;\">\n",
       "      <th></th>\n",
       "      <th>incident_id</th>\n",
       "      <th>offense_id</th>\n",
       "      <th>OFFENSE_CODE</th>\n",
       "      <th>OFFENSE_CODE_EXTENSION</th>\n",
       "      <th>OFFENSE_TYPE_ID</th>\n",
       "      <th>OFFENSE_CATEGORY_ID</th>\n",
       "      <th>FIRST_OCCURRENCE_DATE</th>\n",
       "      <th>LAST_OCCURRENCE_DATE</th>\n",
       "      <th>REPORTED_DATE</th>\n",
       "      <th>INCIDENT_ADDRESS</th>\n",
       "      <th>GEO_X</th>\n",
       "      <th>GEO_Y</th>\n",
       "      <th>GEO_LON</th>\n",
       "      <th>GEO_LAT</th>\n",
       "      <th>DISTRICT_ID</th>\n",
       "      <th>PRECINCT_ID</th>\n",
       "      <th>NEIGHBORHOOD_ID</th>\n",
       "      <th>IS_CRIME</th>\n",
       "      <th>IS_TRAFFIC</th>\n",
       "      <th>VICTIM_COUNT</th>\n",
       "    </tr>\n",
       "  </thead>\n",
       "  <tbody>\n",
       "    <tr>\n",
       "      <th>0</th>\n",
       "      <td>2017421909</td>\n",
       "      <td>2017421909299900</td>\n",
       "      <td>2999</td>\n",
       "      <td>0</td>\n",
       "      <td>criminal-mischief-other</td>\n",
       "      <td>public-disorder</td>\n",
       "      <td>6/25/2017 8:40:00 PM</td>\n",
       "      <td>NaN</td>\n",
       "      <td>6/27/2017 7:01:00 PM</td>\n",
       "      <td>2920 W 32ND AVE</td>\n",
       "      <td>3133773.0</td>\n",
       "      <td>1702660.0</td>\n",
       "      <td>-105.024167</td>\n",
       "      <td>39.761646</td>\n",
       "      <td>1</td>\n",
       "      <td>113</td>\n",
       "      <td>highland</td>\n",
       "      <td>1</td>\n",
       "      <td>0</td>\n",
       "      <td>1</td>\n",
       "    </tr>\n",
       "    <tr>\n",
       "      <th>1</th>\n",
       "      <td>2017342682</td>\n",
       "      <td>2017342682299900</td>\n",
       "      <td>2999</td>\n",
       "      <td>0</td>\n",
       "      <td>criminal-mischief-other</td>\n",
       "      <td>public-disorder</td>\n",
       "      <td>5/26/2017 7:00:00 PM</td>\n",
       "      <td>NaN</td>\n",
       "      <td>5/26/2017 11:04:00 PM</td>\n",
       "      <td>13400 E ALBROOK DR</td>\n",
       "      <td>3185904.0</td>\n",
       "      <td>1709037.0</td>\n",
       "      <td>-104.838576</td>\n",
       "      <td>39.778256</td>\n",
       "      <td>5</td>\n",
       "      <td>521</td>\n",
       "      <td>montbello</td>\n",
       "      <td>1</td>\n",
       "      <td>0</td>\n",
       "      <td>1</td>\n",
       "    </tr>\n",
       "    <tr>\n",
       "      <th>2</th>\n",
       "      <td>2017421829</td>\n",
       "      <td>2017421829299900</td>\n",
       "      <td>2999</td>\n",
       "      <td>0</td>\n",
       "      <td>criminal-mischief-other</td>\n",
       "      <td>public-disorder</td>\n",
       "      <td>6/27/2017 4:40:00 PM</td>\n",
       "      <td>NaN</td>\n",
       "      <td>6/27/2017 5:50:00 PM</td>\n",
       "      <td>1600 BLOCK 16TH ST</td>\n",
       "      <td>3140436.0</td>\n",
       "      <td>1699005.0</td>\n",
       "      <td>-105.000538</td>\n",
       "      <td>39.751514</td>\n",
       "      <td>6</td>\n",
       "      <td>612</td>\n",
       "      <td>union-station</td>\n",
       "      <td>1</td>\n",
       "      <td>0</td>\n",
       "      <td>1</td>\n",
       "    </tr>\n",
       "    <tr>\n",
       "      <th>3</th>\n",
       "      <td>2017342681</td>\n",
       "      <td>2017342681299900</td>\n",
       "      <td>2999</td>\n",
       "      <td>0</td>\n",
       "      <td>criminal-mischief-other</td>\n",
       "      <td>public-disorder</td>\n",
       "      <td>5/26/2017 7:01:00 PM</td>\n",
       "      <td>NaN</td>\n",
       "      <td>5/26/2017 10:21:00 PM</td>\n",
       "      <td>2200 BLOCK MARKET ST</td>\n",
       "      <td>3143338.0</td>\n",
       "      <td>1700561.0</td>\n",
       "      <td>-104.990186</td>\n",
       "      <td>39.755741</td>\n",
       "      <td>6</td>\n",
       "      <td>612</td>\n",
       "      <td>five-points</td>\n",
       "      <td>1</td>\n",
       "      <td>0</td>\n",
       "      <td>1</td>\n",
       "    </tr>\n",
       "    <tr>\n",
       "      <th>4</th>\n",
       "      <td>2017448789</td>\n",
       "      <td>2017448789299900</td>\n",
       "      <td>2999</td>\n",
       "      <td>0</td>\n",
       "      <td>criminal-mischief-other</td>\n",
       "      <td>public-disorder</td>\n",
       "      <td>7/7/2017 9:48:00 PM</td>\n",
       "      <td>NaN</td>\n",
       "      <td>7/7/2017 9:48:00 PM</td>\n",
       "      <td>1733 N GROVE ST</td>\n",
       "      <td>3132994.0</td>\n",
       "      <td>1696487.0</td>\n",
       "      <td>-105.027052</td>\n",
       "      <td>39.744711</td>\n",
       "      <td>1</td>\n",
       "      <td>121</td>\n",
       "      <td>west-colfax</td>\n",
       "      <td>1</td>\n",
       "      <td>0</td>\n",
       "      <td>1</td>\n",
       "    </tr>\n",
       "  </tbody>\n",
       "</table>\n",
       "</div>"
      ],
      "text/plain": [
       "   incident_id        offense_id  OFFENSE_CODE  OFFENSE_CODE_EXTENSION  \\\n",
       "0   2017421909  2017421909299900          2999                       0   \n",
       "1   2017342682  2017342682299900          2999                       0   \n",
       "2   2017421829  2017421829299900          2999                       0   \n",
       "3   2017342681  2017342681299900          2999                       0   \n",
       "4   2017448789  2017448789299900          2999                       0   \n",
       "\n",
       "           OFFENSE_TYPE_ID OFFENSE_CATEGORY_ID FIRST_OCCURRENCE_DATE  \\\n",
       "0  criminal-mischief-other     public-disorder  6/25/2017 8:40:00 PM   \n",
       "1  criminal-mischief-other     public-disorder  5/26/2017 7:00:00 PM   \n",
       "2  criminal-mischief-other     public-disorder  6/27/2017 4:40:00 PM   \n",
       "3  criminal-mischief-other     public-disorder  5/26/2017 7:01:00 PM   \n",
       "4  criminal-mischief-other     public-disorder   7/7/2017 9:48:00 PM   \n",
       "\n",
       "  LAST_OCCURRENCE_DATE          REPORTED_DATE      INCIDENT_ADDRESS  \\\n",
       "0                  NaN   6/27/2017 7:01:00 PM       2920 W 32ND AVE   \n",
       "1                  NaN  5/26/2017 11:04:00 PM    13400 E ALBROOK DR   \n",
       "2                  NaN   6/27/2017 5:50:00 PM    1600 BLOCK 16TH ST   \n",
       "3                  NaN  5/26/2017 10:21:00 PM  2200 BLOCK MARKET ST   \n",
       "4                  NaN    7/7/2017 9:48:00 PM       1733 N GROVE ST   \n",
       "\n",
       "       GEO_X      GEO_Y     GEO_LON    GEO_LAT DISTRICT_ID  PRECINCT_ID  \\\n",
       "0  3133773.0  1702660.0 -105.024167  39.761646           1          113   \n",
       "1  3185904.0  1709037.0 -104.838576  39.778256           5          521   \n",
       "2  3140436.0  1699005.0 -105.000538  39.751514           6          612   \n",
       "3  3143338.0  1700561.0 -104.990186  39.755741           6          612   \n",
       "4  3132994.0  1696487.0 -105.027052  39.744711           1          121   \n",
       "\n",
       "  NEIGHBORHOOD_ID  IS_CRIME  IS_TRAFFIC  VICTIM_COUNT  \n",
       "0        highland         1           0             1  \n",
       "1       montbello         1           0             1  \n",
       "2   union-station         1           0             1  \n",
       "3     five-points         1           0             1  \n",
       "4     west-colfax         1           0             1  "
      ]
     },
     "execution_count": 2,
     "metadata": {},
     "output_type": "execute_result"
    }
   ],
   "source": [
    "df = pd.read_csv('./crime.csv', encoding='ISO-8859-1')\n",
    "df.head()"
   ]
  },
  {
   "cell_type": "code",
   "execution_count": 3,
   "id": "48904577-550a-4b7a-bc40-627ad7343c70",
   "metadata": {},
   "outputs": [
    {
     "data": {
      "text/plain": [
       "6    89386\n",
       "3    84422\n",
       "1    61308\n",
       "2    54834\n",
       "4    49953\n",
       "5    43682\n",
       "7     6162\n",
       "U      752\n",
       "J        2\n",
       "9        1\n",
       "D        1\n",
       "Name: DISTRICT_ID, dtype: int64"
      ]
     },
     "execution_count": 3,
     "metadata": {},
     "output_type": "execute_result"
    }
   ],
   "source": [
    "df['DISTRICT_ID'].value_counts()"
   ]
  },
  {
   "cell_type": "code",
   "execution_count": 4,
   "id": "52403692-a412-4f40-9059-bad2e473a6d6",
   "metadata": {},
   "outputs": [
    {
     "data": {
      "text/plain": [
       "array([113, 521, 612, 121, 123, 221, 611, 423, 512, 212, 312, 622, 412,\n",
       "       313, 323, 211, 111, 422, 623, 322, 314, 321, 421, 223, 311, 522,\n",
       "       324, 122, 621, 511, 411, 523, 112, 222, 759, 213, 999, 513, 436,\n",
       "       426, 316, 119, 131, 524, 559, 263, 601, 749, 614, 514, 515, 317,\n",
       "       215, 332, 613, 532])"
      ]
     },
     "execution_count": 4,
     "metadata": {},
     "output_type": "execute_result"
    }
   ],
   "source": [
    "df['PRECINCT_ID'].unique()"
   ]
  },
  {
   "cell_type": "code",
   "execution_count": 47,
   "id": "a3255413-e89f-4b4d-a3c4-b7da656a94da",
   "metadata": {},
   "outputs": [],
   "source": [
    "# Convert the Date column to a datetime dtype\n",
    "df['FIRST_OCCURRENCE_DATE'] = pd.to_datetime(df['FIRST_OCCURRENCE_DATE'])"
   ]
  },
  {
   "cell_type": "code",
   "execution_count": 44,
   "id": "19232bb8-b8cf-4091-b55e-208cedfc25c1",
   "metadata": {},
   "outputs": [],
   "source": [
    "districts = ['1', '2', '3', '4', '5', '6', '7']\n",
    "data = []"
   ]
  },
  {
   "cell_type": "code",
   "execution_count": 45,
   "id": "c4acc668-a656-43ff-b348-547ce6dd31ee",
   "metadata": {},
   "outputs": [],
   "source": [
    "for dist in districts:\n",
    "    df_selected = df[df['DISTRICT_ID'] == dist]\n",
    "    hour_groups = df_selected.groupby(df_selected['FIRST_OCCURRENCE_DATE'].dt.hour).size()\n",
    "    for hour, num_crimes in hour_groups.items():\n",
    "        date_groups = df_selected[df_selected['FIRST_OCCURRENCE_DATE'].dt.hour == hour].groupby(df_selected['FIRST_OCCURRENCE_DATE'].dt.date).size()\n",
    "        for date, num_crimes_by_date in date_groups.items():\n",
    "            date_hour = pd.to_datetime(str(date) + ' ' + str(hour) + ':00:00')\n",
    "            data.append([date_hour, num_crimes_by_date, dist])\n"
   ]
  },
  {
   "cell_type": "code",
   "execution_count": 46,
   "id": "881c4c47-c15f-4674-bace-9a32d5eee611",
   "metadata": {},
   "outputs": [
    {
     "name": "stdout",
     "output_type": "stream",
     "text": [
      "Data written to file successfully.\n"
     ]
    }
   ],
   "source": [
    "# Create and store in CSV\n",
    "\n",
    "# Name of CSV crimes_num.csv\n",
    "\n",
    "import csv\n",
    "\n",
    "# open a file in write mode\n",
    "with open('crimes_num_1.csv', 'w', newline='') as csvfile:\n",
    "    # create a csv writer object\n",
    "    writer = csv.writer(csvfile)\n",
    "    writer.writerow(['TimeStamp', 'Count', 'District'])\n",
    "\n",
    "    # write the data to the file\n",
    "    for row in data:\n",
    "        writer.writerow(row)\n",
    "\n",
    "# # convert list to DataFrame\n",
    "# df_data = pd.DataFrame({'col': data})\n",
    "\n",
    "# # write DataFrame to CSV file without index\n",
    "# df_data.to_csv('crimes_num.csv', index=False)\n",
    "\n",
    "print('Data written to file successfully.')"
   ]
  },
  {
   "cell_type": "code",
   "execution_count": 219,
   "id": "ecffdd04-c51a-4d60-ae3d-534ac3eafbb8",
   "metadata": {},
   "outputs": [
    {
     "data": {
      "text/html": [
       "<div>\n",
       "<style scoped>\n",
       "    .dataframe tbody tr th:only-of-type {\n",
       "        vertical-align: middle;\n",
       "    }\n",
       "\n",
       "    .dataframe tbody tr th {\n",
       "        vertical-align: top;\n",
       "    }\n",
       "\n",
       "    .dataframe thead th {\n",
       "        text-align: right;\n",
       "    }\n",
       "</style>\n",
       "<table border=\"1\" class=\"dataframe\">\n",
       "  <thead>\n",
       "    <tr style=\"text-align: right;\">\n",
       "      <th></th>\n",
       "      <th>Hours</th>\n",
       "      <th>Count</th>\n",
       "    </tr>\n",
       "  </thead>\n",
       "  <tbody>\n",
       "    <tr>\n",
       "      <th>1082</th>\n",
       "      <td>2</td>\n",
       "      <td>6</td>\n",
       "    </tr>\n",
       "    <tr>\n",
       "      <th>1130</th>\n",
       "      <td>2</td>\n",
       "      <td>8</td>\n",
       "    </tr>\n",
       "    <tr>\n",
       "      <th>1058</th>\n",
       "      <td>2</td>\n",
       "      <td>8</td>\n",
       "    </tr>\n",
       "    <tr>\n",
       "      <th>1034</th>\n",
       "      <td>2</td>\n",
       "      <td>8</td>\n",
       "    </tr>\n",
       "    <tr>\n",
       "      <th>1035</th>\n",
       "      <td>3</td>\n",
       "      <td>9</td>\n",
       "    </tr>\n",
       "    <tr>\n",
       "      <th>...</th>\n",
       "      <td>...</td>\n",
       "      <td>...</td>\n",
       "    </tr>\n",
       "    <tr>\n",
       "      <th>984</th>\n",
       "      <td>0</td>\n",
       "      <td>917</td>\n",
       "    </tr>\n",
       "    <tr>\n",
       "      <th>880</th>\n",
       "      <td>16</td>\n",
       "      <td>1015</td>\n",
       "    </tr>\n",
       "    <tr>\n",
       "      <th>928</th>\n",
       "      <td>16</td>\n",
       "      <td>1049</td>\n",
       "    </tr>\n",
       "    <tr>\n",
       "      <th>952</th>\n",
       "      <td>16</td>\n",
       "      <td>1112</td>\n",
       "    </tr>\n",
       "    <tr>\n",
       "      <th>904</th>\n",
       "      <td>16</td>\n",
       "      <td>1159</td>\n",
       "    </tr>\n",
       "  </tbody>\n",
       "</table>\n",
       "<p>1176 rows × 2 columns</p>\n",
       "</div>"
      ],
      "text/plain": [
       "      Hours  Count\n",
       "1082      2      6\n",
       "1130      2      8\n",
       "1058      2      8\n",
       "1034      2      8\n",
       "1035      3      9\n",
       "...     ...    ...\n",
       "984       0    917\n",
       "880      16   1015\n",
       "928      16   1049\n",
       "952      16   1112\n",
       "904      16   1159\n",
       "\n",
       "[1176 rows x 2 columns]"
      ]
     },
     "execution_count": 219,
     "metadata": {},
     "output_type": "execute_result"
    }
   ],
   "source": [
    "df_whole = pd.read_csv('crimes_num.csv')\n",
    "df_whole = df_whole.sort_values(by=['Count'])\n",
    "df_whole\n"
   ]
  },
  {
   "cell_type": "code",
   "execution_count": 220,
   "id": "3db53c24-784e-4b89-86e7-0e831ed4e370",
   "metadata": {},
   "outputs": [],
   "source": [
    "from sklearn.cluster import KMeans\n",
    "import matplotlib.pyplot as plt\n",
    "\n"
   ]
  },
  {
   "cell_type": "code",
   "execution_count": 221,
   "id": "7d3cfce5-b286-4859-95c2-b4966f6e3063",
   "metadata": {},
   "outputs": [],
   "source": [
    "# Create an instance of the KMeans class\n",
    "kmeans = KMeans(n_clusters=5, random_state=0)\n",
    "\n"
   ]
  },
  {
   "cell_type": "code",
   "execution_count": 222,
   "id": "545bf4ba-d1e7-4934-bf16-75f5571a3e97",
   "metadata": {},
   "outputs": [
    {
     "data": {
      "text/html": [
       "<style>#sk-container-id-10 {color: black;background-color: white;}#sk-container-id-10 pre{padding: 0;}#sk-container-id-10 div.sk-toggleable {background-color: white;}#sk-container-id-10 label.sk-toggleable__label {cursor: pointer;display: block;width: 100%;margin-bottom: 0;padding: 0.3em;box-sizing: border-box;text-align: center;}#sk-container-id-10 label.sk-toggleable__label-arrow:before {content: \"▸\";float: left;margin-right: 0.25em;color: #696969;}#sk-container-id-10 label.sk-toggleable__label-arrow:hover:before {color: black;}#sk-container-id-10 div.sk-estimator:hover label.sk-toggleable__label-arrow:before {color: black;}#sk-container-id-10 div.sk-toggleable__content {max-height: 0;max-width: 0;overflow: hidden;text-align: left;background-color: #f0f8ff;}#sk-container-id-10 div.sk-toggleable__content pre {margin: 0.2em;color: black;border-radius: 0.25em;background-color: #f0f8ff;}#sk-container-id-10 input.sk-toggleable__control:checked~div.sk-toggleable__content {max-height: 200px;max-width: 100%;overflow: auto;}#sk-container-id-10 input.sk-toggleable__control:checked~label.sk-toggleable__label-arrow:before {content: \"▾\";}#sk-container-id-10 div.sk-estimator input.sk-toggleable__control:checked~label.sk-toggleable__label {background-color: #d4ebff;}#sk-container-id-10 div.sk-label input.sk-toggleable__control:checked~label.sk-toggleable__label {background-color: #d4ebff;}#sk-container-id-10 input.sk-hidden--visually {border: 0;clip: rect(1px 1px 1px 1px);clip: rect(1px, 1px, 1px, 1px);height: 1px;margin: -1px;overflow: hidden;padding: 0;position: absolute;width: 1px;}#sk-container-id-10 div.sk-estimator {font-family: monospace;background-color: #f0f8ff;border: 1px dotted black;border-radius: 0.25em;box-sizing: border-box;margin-bottom: 0.5em;}#sk-container-id-10 div.sk-estimator:hover {background-color: #d4ebff;}#sk-container-id-10 div.sk-parallel-item::after {content: \"\";width: 100%;border-bottom: 1px solid gray;flex-grow: 1;}#sk-container-id-10 div.sk-label:hover label.sk-toggleable__label {background-color: #d4ebff;}#sk-container-id-10 div.sk-serial::before {content: \"\";position: absolute;border-left: 1px solid gray;box-sizing: border-box;top: 0;bottom: 0;left: 50%;z-index: 0;}#sk-container-id-10 div.sk-serial {display: flex;flex-direction: column;align-items: center;background-color: white;padding-right: 0.2em;padding-left: 0.2em;position: relative;}#sk-container-id-10 div.sk-item {position: relative;z-index: 1;}#sk-container-id-10 div.sk-parallel {display: flex;align-items: stretch;justify-content: center;background-color: white;position: relative;}#sk-container-id-10 div.sk-item::before, #sk-container-id-10 div.sk-parallel-item::before {content: \"\";position: absolute;border-left: 1px solid gray;box-sizing: border-box;top: 0;bottom: 0;left: 50%;z-index: -1;}#sk-container-id-10 div.sk-parallel-item {display: flex;flex-direction: column;z-index: 1;position: relative;background-color: white;}#sk-container-id-10 div.sk-parallel-item:first-child::after {align-self: flex-end;width: 50%;}#sk-container-id-10 div.sk-parallel-item:last-child::after {align-self: flex-start;width: 50%;}#sk-container-id-10 div.sk-parallel-item:only-child::after {width: 0;}#sk-container-id-10 div.sk-dashed-wrapped {border: 1px dashed gray;margin: 0 0.4em 0.5em 0.4em;box-sizing: border-box;padding-bottom: 0.4em;background-color: white;}#sk-container-id-10 div.sk-label label {font-family: monospace;font-weight: bold;display: inline-block;line-height: 1.2em;}#sk-container-id-10 div.sk-label-container {text-align: center;}#sk-container-id-10 div.sk-container {/* jupyter's `normalize.less` sets `[hidden] { display: none; }` but bootstrap.min.css set `[hidden] { display: none !important; }` so we also need the `!important` here to be able to override the default hidden behavior on the sphinx rendered scikit-learn.org. See: https://github.com/scikit-learn/scikit-learn/issues/21755 */display: inline-block !important;position: relative;}#sk-container-id-10 div.sk-text-repr-fallback {display: none;}</style><div id=\"sk-container-id-10\" class=\"sk-top-container\"><div class=\"sk-text-repr-fallback\"><pre>KMeans(n_clusters=5, random_state=0)</pre><b>In a Jupyter environment, please rerun this cell to show the HTML representation or trust the notebook. <br />On GitHub, the HTML representation is unable to render, please try loading this page with nbviewer.org.</b></div><div class=\"sk-container\" hidden><div class=\"sk-item\"><div class=\"sk-estimator sk-toggleable\"><input class=\"sk-toggleable__control sk-hidden--visually\" id=\"sk-estimator-id-10\" type=\"checkbox\" checked><label for=\"sk-estimator-id-10\" class=\"sk-toggleable__label sk-toggleable__label-arrow\">KMeans</label><div class=\"sk-toggleable__content\"><pre>KMeans(n_clusters=5, random_state=0)</pre></div></div></div></div></div>"
      ],
      "text/plain": [
       "KMeans(n_clusters=5, random_state=0)"
      ]
     },
     "execution_count": 222,
     "metadata": {},
     "output_type": "execute_result"
    }
   ],
   "source": [
    "# Fit the model to the data\n",
    "df_counts = df_whole['Count'].to_numpy().reshape(-1, 1)\n",
    "kmeans.fit(df_counts)\n",
    "kmeans\n"
   ]
  },
  {
   "cell_type": "code",
   "execution_count": 223,
   "id": "3fcdc516-1ba5-41c6-98c9-5edefec676c0",
   "metadata": {},
   "outputs": [
    {
     "data": {
      "text/plain": [
       "array([[372.36      ],\n",
       "       [ 53.43062201],\n",
       "       [720.99173554],\n",
       "       [511.16022099],\n",
       "       [217.44126984]])"
      ]
     },
     "execution_count": 223,
     "metadata": {},
     "output_type": "execute_result"
    }
   ],
   "source": [
    "# Get the cluster labels and centroids\n",
    "labels = kmeans.predict(df_counts)\n",
    "centroids = kmeans.cluster_centers_\n",
    "centroids\n"
   ]
  },
  {
   "cell_type": "code",
   "execution_count": 134,
   "id": "30fb8bba-5d0b-4868-83c9-a934148ca006",
   "metadata": {},
   "outputs": [
    {
     "name": "stdout",
     "output_type": "stream",
     "text": [
      "Cluster centers: [[509.64864865]\n",
      " [ 51.04433498]\n",
      " [369.37078652]\n",
      " [213.38906752]\n",
      " [720.99173554]]\n"
     ]
    }
   ],
   "source": [
    "# # Get the cluster labels and centroids\n",
    "# # labels = kmeans.labels_\n",
    "# centroids = kmeans.cluster_centers_\n",
    "# print(\"Cluster centers:\", centroids)\n",
    "\n"
   ]
  },
  {
   "cell_type": "code",
   "execution_count": 85,
   "id": "17d577bd-390f-4262-aa2c-d2be3460c0a2",
   "metadata": {},
   "outputs": [],
   "source": [
    "# Add the labels to the DataFrame\n",
    "# df_counts['cluster'] = labels\n",
    "\n"
   ]
  },
  {
   "cell_type": "code",
   "execution_count": 224,
   "id": "c2dee4ec-01bb-46c0-8a92-d39a1cf014ab",
   "metadata": {},
   "outputs": [
    {
     "data": {
      "image/png": "[encoded data removed]",
      "text/plain": [
       "<Figure size 640x480 with 1 Axes>"
      ]
     },
     "metadata": {},
     "output_type": "display_data"
    }
   ],
   "source": [
    "plt.scatter(df_whole['Hours'], df_whole['Count'], c=labels)\n",
    "# plt.scatter(centroids[:, 0], np.zeros(5), marker='*', s=200, c='#050505')\n",
    "plt.show()"
   ]
  },
  {
   "cell_type": "code",
   "execution_count": 225,
   "id": "d974f753-f34b-4040-8e1e-deb52080b43a",
   "metadata": {},
   "outputs": [],
   "source": [
    "import pickle\n",
    "# save the model to a file using pickle\n",
    "with open('kmeans.pkl', 'wb') as f:\n",
    "    pickle.dump(kmeans, f)"
   ]
  },
  {
   "cell_type": "code",
   "execution_count": 226,
   "id": "55e1c26c-646e-4c37-9bc4-eea14aa9e2f8",
   "metadata": {},
   "outputs": [],
   "source": [
    "import joblib\n",
    "\n",
    "# Load the saved model from the file\n",
    "model = joblib.load('kmeans.pkl')"
   ]
  },
  {
   "cell_type": "code",
   "execution_count": 234,
   "id": "4e8b7e8a-7f54-4210-9038-647e60561356",
   "metadata": {},
   "outputs": [
    {
     "data": {
      "text/plain": [
       "array([0], dtype=int32)"
      ]
     },
     "execution_count": 234,
     "metadata": {},
     "output_type": "execute_result"
    }
   ],
   "source": [
    "# Predict cluster labels for the new data\n",
    "import numpy as np\n",
    "new_data = np.array([375])\n",
    "new_data = new_data.reshape(-1, 1)\n",
    "new_labels = model.predict(new_data)\n",
    "new_labels"
   ]
  }
 ],
 "metadata": {
  "kernelspec": {
   "display_name": "mlp_kernal",
   "language": "python",
   "name": "mlp_kernal"
  },
  "language_info": {
   "codemirror_mode": {
    "name": "ipython",
    "version": 3
   },
   "file_extension": ".py",
   "mimetype": "text/x-python",
   "name": "python",
   "nbconvert_exporter": "python",
   "pygments_lexer": "ipython3",
   "version": "3.8.13"
  },
  "vscode": {
   "interpreter": {
    "hash": "16776d2cce04c05b3caeca10e3f9597c2d51e12e429cc4d78ec0ddadd7e4ad85"
   }
  }
 },
 "nbformat": 4,
 "nbformat_minor": 5
}
