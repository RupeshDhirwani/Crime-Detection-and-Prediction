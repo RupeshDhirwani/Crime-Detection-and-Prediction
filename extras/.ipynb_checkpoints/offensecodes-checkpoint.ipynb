{
 "cells": [
  {
   "cell_type": "code",
   "execution_count": 2,
   "id": "681bdd0d-b28d-47db-bc2f-550a222380e2",
   "metadata": {},
   "outputs": [],
   "source": [
    "import pandas as pd\n",
    "import numpy as np"
   ]
  },
  {
   "cell_type": "code",
   "execution_count": 3,
   "id": "836402e0-c75f-4843-b827-9b0b2358874f",
   "metadata": {},
   "outputs": [
    {
     "data": {
      "text/html": [
       "<div>\n",
       "<style scoped>\n",
       "    .dataframe tbody tr th:only-of-type {\n",
       "        vertical-align: middle;\n",
       "    }\n",
       "\n",
       "    .dataframe tbody tr th {\n",
       "        vertical-align: top;\n",
       "    }\n",
       "\n",
       "    .dataframe thead th {\n",
       "        text-align: right;\n",
       "    }\n",
       "</style>\n",
       "<table border=\"1\" class=\"dataframe\">\n",
       "  <thead>\n",
       "    <tr style=\"text-align: right;\">\n",
       "      <th></th>\n",
       "      <th>OBJECTID</th>\n",
       "      <th>OFFENSE_CODE</th>\n",
       "      <th>OFFENSE_CODE_EXTENSION</th>\n",
       "      <th>OFFENSE_TYPE_ID</th>\n",
       "      <th>OFFENSE_TYPE_NAME</th>\n",
       "      <th>OFFENSE_CATEGORY_ID</th>\n",
       "      <th>OFFENSE_CATEGORY_NAME</th>\n",
       "      <th>IS_CRIME</th>\n",
       "      <th>IS_TRAFFIC</th>\n",
       "    </tr>\n",
       "  </thead>\n",
       "  <tbody>\n",
       "    <tr>\n",
       "      <th>0</th>\n",
       "      <td>1</td>\n",
       "      <td>2804</td>\n",
       "      <td>1</td>\n",
       "      <td>stolen-property-possession</td>\n",
       "      <td>Possession of stolen property</td>\n",
       "      <td>all-other-crimes</td>\n",
       "      <td>All Other Crimes</td>\n",
       "      <td>1</td>\n",
       "      <td>0</td>\n",
       "    </tr>\n",
       "    <tr>\n",
       "      <th>1</th>\n",
       "      <td>2</td>\n",
       "      <td>2804</td>\n",
       "      <td>2</td>\n",
       "      <td>fraud-possess-financial-device</td>\n",
       "      <td>Possession of a financial device</td>\n",
       "      <td>all-other-crimes</td>\n",
       "      <td>All Other Crimes</td>\n",
       "      <td>1</td>\n",
       "      <td>0</td>\n",
       "    </tr>\n",
       "    <tr>\n",
       "      <th>2</th>\n",
       "      <td>3</td>\n",
       "      <td>2901</td>\n",
       "      <td>0</td>\n",
       "      <td>damaged-prop-bus</td>\n",
       "      <td>Damaged business property</td>\n",
       "      <td>public-disorder</td>\n",
       "      <td>Public Disorder</td>\n",
       "      <td>1</td>\n",
       "      <td>0</td>\n",
       "    </tr>\n",
       "    <tr>\n",
       "      <th>3</th>\n",
       "      <td>4</td>\n",
       "      <td>2902</td>\n",
       "      <td>0</td>\n",
       "      <td>criminal-mischief-private</td>\n",
       "      <td>Criminal mischief to private property</td>\n",
       "      <td>public-disorder</td>\n",
       "      <td>Public Disorder</td>\n",
       "      <td>1</td>\n",
       "      <td>0</td>\n",
       "    </tr>\n",
       "    <tr>\n",
       "      <th>4</th>\n",
       "      <td>5</td>\n",
       "      <td>2903</td>\n",
       "      <td>0</td>\n",
       "      <td>criminal-mischief-public</td>\n",
       "      <td>Criminal mischief to public property</td>\n",
       "      <td>public-disorder</td>\n",
       "      <td>Public Disorder</td>\n",
       "      <td>1</td>\n",
       "      <td>0</td>\n",
       "    </tr>\n",
       "  </tbody>\n",
       "</table>\n",
       "</div>"
      ],
      "text/plain": [
       "   OBJECTID  OFFENSE_CODE  OFFENSE_CODE_EXTENSION  \\\n",
       "0         1          2804                       1   \n",
       "1         2          2804                       2   \n",
       "2         3          2901                       0   \n",
       "3         4          2902                       0   \n",
       "4         5          2903                       0   \n",
       "\n",
       "                  OFFENSE_TYPE_ID                      OFFENSE_TYPE_NAME  \\\n",
       "0      stolen-property-possession          Possession of stolen property   \n",
       "1  fraud-possess-financial-device       Possession of a financial device   \n",
       "2                damaged-prop-bus              Damaged business property   \n",
       "3       criminal-mischief-private  Criminal mischief to private property   \n",
       "4        criminal-mischief-public   Criminal mischief to public property   \n",
       "\n",
       "  OFFENSE_CATEGORY_ID OFFENSE_CATEGORY_NAME  IS_CRIME  IS_TRAFFIC  \n",
       "0    all-other-crimes      All Other Crimes         1           0  \n",
       "1    all-other-crimes      All Other Crimes         1           0  \n",
       "2     public-disorder       Public Disorder         1           0  \n",
       "3     public-disorder       Public Disorder         1           0  \n",
       "4     public-disorder       Public Disorder         1           0  "
      ]
     },
     "execution_count": 3,
     "metadata": {},
     "output_type": "execute_result"
    }
   ],
   "source": [
    "df = pd.read_csv('offense_codes.csv')\n",
    "df.head()"
   ]
  },
  {
   "cell_type": "code",
   "execution_count": 7,
   "id": "7c91054a-7b9e-464e-889b-6e5f2e7fbd78",
   "metadata": {},
   "outputs": [
    {
     "data": {
      "text/plain": [
       "all-other-crimes                107\n",
       "drug-alcohol                     30\n",
       "white-collar-crime               29\n",
       "public-disorder                  27\n",
       "larceny                          15\n",
       "other-crimes-against-persons     14\n",
       "aggravated-assault               14\n",
       "sexual-assault                   13\n",
       "robbery                          13\n",
       "burglary                         11\n",
       "murder                            9\n",
       "traffic-accident                  6\n",
       "arson                             5\n",
       "auto-theft                        4\n",
       "theft-from-motor-vehicle          3\n",
       "Name: OFFENSE_CATEGORY_ID, dtype: int64"
      ]
     },
     "execution_count": 7,
     "metadata": {},
     "output_type": "execute_result"
    }
   ],
   "source": [
    "df['OFFENSE_CATEGORY_ID'].value_counts()"
   ]
  },
  {
   "cell_type": "code",
   "execution_count": 6,
   "id": "9334eae3-6859-4ed9-a8eb-16dbb1922db4",
   "metadata": {},
   "outputs": [
    {
     "data": {
      "text/plain": [
       "All Other Crimes                6\n",
       "Public Disorder                 3\n",
       "Aggravated Assault              2\n",
       "Larceny                         2\n",
       "Traffic Accident                1\n",
       "Other Crimes Against Persons    1\n",
       "White Collar Crime              1\n",
       "Name: OFFENSE_CATEGORY_NAME, dtype: int64"
      ]
     },
     "execution_count": 6,
     "metadata": {},
     "output_type": "execute_result"
    }
   ],
   "source": [
    "df[df['OFFENSE_CODE_EXTENSION'] == 2]['OFFENSE_CATEGORY_NAME'].value_counts()"
   ]
  }
 ],
 "metadata": {
  "kernelspec": {
   "display_name": "mlp_kernal",
   "language": "python",
   "name": "mlp_kernal"
  },
  "language_info": {
   "codemirror_mode": {
    "name": "ipython",
    "version": 3
   },
   "file_extension": ".py",
   "mimetype": "text/x-python",
   "name": "python",
   "nbconvert_exporter": "python",
   "pygments_lexer": "ipython3",
   "version": "3.8.13"
  }
 },
 "nbformat": 4,
 "nbformat_minor": 5
}
